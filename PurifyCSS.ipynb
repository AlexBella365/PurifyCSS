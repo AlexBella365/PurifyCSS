{
 "cells": [
  {
   "cell_type": "code",
   "execution_count": 31,
   "metadata": {
    "collapsed": true
   },
   "outputs": [],
   "source": [
    "import glob\n",
    "import os\n",
    "from bs4 import BeautifulSoup as bs"
   ]
  },
  {
   "cell_type": "markdown",
   "metadata": {},
   "source": [
    "# List all files"
   ]
  },
  {
   "cell_type": "code",
   "execution_count": 18,
   "metadata": {},
   "outputs": [
    {
     "data": {
      "text/plain": [
       "'C:\\\\Users\\\\abellaiche\\\\Dropbox\\\\Web design\\\\alexandrebellaiche.com'"
      ]
     },
     "execution_count": 18,
     "metadata": {},
     "output_type": "execute_result"
    }
   ],
   "source": [
    "WORK_DIR = r'C:\\Users\\abellaiche\\Dropbox\\Web design\\alexandrebellaiche.com'\n",
    "WORK_DIR"
   ]
  },
  {
   "cell_type": "code",
   "execution_count": 21,
   "metadata": {},
   "outputs": [],
   "source": [
    "def recursive_glob(rootdir='.', suffix=''):\n",
    "    return [os.path.join(looproot, filename)\n",
    "            for looproot, _, filenames in os.walk(rootdir)\n",
    "            for filename in filenames if filename.endswith(suffix)]"
   ]
  },
  {
   "cell_type": "code",
   "execution_count": 28,
   "metadata": {},
   "outputs": [],
   "source": [
    "htmlfiles = recursive_glob(WORK_DIR,'.html')\n",
    "lessfiles = recursive_glob(WORK_DIR,'.less')\n",
    "cssfiles = recursive_glob(WORK_DIR,'.css')"
   ]
  },
  {
   "cell_type": "code",
   "execution_count": 32,
   "metadata": {},
   "outputs": [
    {
     "data": {
      "text/plain": [
       "['C:\\\\Users\\\\abellaiche\\\\Dropbox\\\\Web design\\\\alexandrebellaiche.com\\\\blog\\\\templates\\\\blog\\\\blog.html',\n",
       " 'C:\\\\Users\\\\abellaiche\\\\Dropbox\\\\Web design\\\\alexandrebellaiche.com\\\\blog\\\\templates\\\\blog\\\\carousel.html',\n",
       " 'C:\\\\Users\\\\abellaiche\\\\Dropbox\\\\Web design\\\\alexandrebellaiche.com\\\\blog\\\\templates\\\\blog\\\\post.html',\n",
       " 'C:\\\\Users\\\\abellaiche\\\\Dropbox\\\\Web design\\\\alexandrebellaiche.com\\\\personal\\\\templates\\\\common\\\\header.html',\n",
       " 'C:\\\\Users\\\\abellaiche\\\\Dropbox\\\\Web design\\\\alexandrebellaiche.com\\\\personal\\\\templates\\\\personal\\\\CV.html',\n",
       " 'C:\\\\Users\\\\abellaiche\\\\Dropbox\\\\Web design\\\\alexandrebellaiche.com\\\\personal\\\\templates\\\\personal\\\\CV_PRINT.html',\n",
       " 'C:\\\\Users\\\\abellaiche\\\\Dropbox\\\\Web design\\\\alexandrebellaiche.com\\\\personal\\\\templates\\\\personal\\\\index.html',\n",
       " 'C:\\\\Users\\\\abellaiche\\\\Dropbox\\\\Web design\\\\alexandrebellaiche.com\\\\personal\\\\templates\\\\personal\\\\object_detection.html',\n",
       " 'C:\\\\Users\\\\abellaiche\\\\Dropbox\\\\Web design\\\\alexandrebellaiche.com\\\\recommender\\\\templates\\\\recommender\\\\allmovies.html',\n",
       " 'C:\\\\Users\\\\abellaiche\\\\Dropbox\\\\Web design\\\\alexandrebellaiche.com\\\\recommender\\\\templates\\\\recommender\\\\allusers.html',\n",
       " 'C:\\\\Users\\\\abellaiche\\\\Dropbox\\\\Web design\\\\alexandrebellaiche.com\\\\recommender\\\\templates\\\\recommender\\\\main.html',\n",
       " 'C:\\\\Users\\\\abellaiche\\\\Dropbox\\\\Web design\\\\alexandrebellaiche.com\\\\recommender\\\\templates\\\\recommender\\\\user.html',\n",
       " 'C:\\\\Users\\\\abellaiche\\\\Dropbox\\\\Web design\\\\alexandrebellaiche.com\\\\sentiment\\\\templates\\\\sentiment\\\\main.html',\n",
       " 'C:\\\\Users\\\\abellaiche\\\\Dropbox\\\\Web design\\\\alexandrebellaiche.com\\\\sentiment\\\\templates\\\\sentiment\\\\main2.html',\n",
       " 'C:\\\\Users\\\\abellaiche\\\\Dropbox\\\\Web design\\\\alexandrebellaiche.com\\\\sentiment\\\\templates\\\\sentiment\\\\main3.html',\n",
       " 'C:\\\\Users\\\\abellaiche\\\\Dropbox\\\\Web design\\\\alexandrebellaiche.com\\\\stylize\\\\templates\\\\stylize\\\\index.html',\n",
       " 'C:\\\\Users\\\\abellaiche\\\\Dropbox\\\\Web design\\\\alexandrebellaiche.com\\\\stylize\\\\templates\\\\stylize\\\\result.html']"
      ]
     },
     "execution_count": 32,
     "metadata": {},
     "output_type": "execute_result"
    }
   ],
   "source": [
    "htmlfiles"
   ]
  },
  {
   "cell_type": "code",
   "execution_count": 29,
   "metadata": {},
   "outputs": [
    {
     "data": {
      "text/plain": [
       "['C:\\\\Users\\\\abellaiche\\\\Dropbox\\\\Web design\\\\alexandrebellaiche.com\\\\personal\\\\static\\\\common\\\\css\\\\styles.less',\n",
       " 'C:\\\\Users\\\\abellaiche\\\\Dropbox\\\\Web design\\\\alexandrebellaiche.com\\\\personal\\\\static\\\\personal\\\\css\\\\styles_PRINT.less']"
      ]
     },
     "execution_count": 29,
     "metadata": {},
     "output_type": "execute_result"
    }
   ],
   "source": [
    "lessfiles"
   ]
  },
  {
   "cell_type": "markdown",
   "metadata": {},
   "source": [
    "# Parse Django templates and extract classes"
   ]
  },
  {
   "cell_type": "code",
   "execution_count": 64,
   "metadata": {},
   "outputs": [],
   "source": [
    "with open('C:\\\\Users\\\\abellaiche\\\\Dropbox\\\\Web design\\\\alexandrebellaiche.com\\\\personal\\\\templates\\\\common\\\\header.html') as doc:\n",
    "    soup = bs(doc,'html.parser')"
   ]
  },
  {
   "cell_type": "code",
   "execution_count": 41,
   "metadata": {},
   "outputs": [],
   "source": [
    "classes = [value \n",
    "           for element in soup.find_all(class_=True) \n",
    "           for value in element[\"class\"]]"
   ]
  },
  {
   "cell_type": "code",
   "execution_count": 46,
   "metadata": {},
   "outputs": [
    {
     "data": {
      "text/plain": [
       "['nav-tabs',\n",
       " 'nav-justified',\n",
       " \"'stylize'\",\n",
       " '%}',\n",
       " \"'CV'\",\n",
       " 'desc',\n",
       " \"'blog'\",\n",
       " 'header',\n",
       " 'name',\n",
       " \"'sentiment'\",\n",
       " 'profile-image',\n",
       " \"'recommender'\",\n",
       " 'if',\n",
       " '%}active{%',\n",
       " 'inline',\n",
       " 'container-fluid',\n",
       " \"'home'\",\n",
       " 'endif',\n",
       " 'request.path',\n",
       " '{%',\n",
       " 'in',\n",
       " 'profile-content',\n",
       " 'nav',\n",
       " \"'object_detection'\"]"
      ]
     },
     "execution_count": 46,
     "metadata": {},
     "output_type": "execute_result"
    }
   ],
   "source": [
    "list(set(classes))"
   ]
  },
  {
   "cell_type": "code",
   "execution_count": 103,
   "metadata": {},
   "outputs": [
    {
     "data": {
      "text/plain": [
       "<!DOCTYPE html>\n",
       "\n",
       "<html lang=\"en\" xmlns=\"http://www.w3.org/1999/html\">\n",
       "<head>\n",
       "<title>Alexandre Bellaiche website</title>\n",
       "<!-- Meta -->\n",
       "<meta charset=\"utf-8\"/>\n",
       "<meta content=\"IE=edge\" http-equiv=\"X-UA-Compatible\"/>\n",
       "<meta content=\"width=device-width, initial-scale=1.0\" name=\"viewport\"/>\n",
       "<!--<meta name=\"description\" content=\"Responsive HTML5 Website landing Page for Developers\">-->\n",
       "<link href=\"http://fonts.googleapis.com/css?family=Lato:300,400,300italic,400italic\" rel=\"stylesheet\" type=\"text/css\"/>\n",
       "<link href=\"http://fonts.googleapis.com/css?family=Montserrat:400,700\" rel=\"stylesheet\" type=\"text/css\"/>\n",
       "<link href=\"\" rel=\"stylesheet\"/>\n",
       "<link href=\"\" rel=\"stylesheet\"/>\n",
       "<link href=\"\" id=\"theme-style\" rel=\"stylesheet\"/>\n",
       "<link href=\"\" rel=\"shortcut icon\"/>\n",
       "<script src=\"https://ajax.googleapis.com/ajax/libs/jquery/3.2.1/jquery.min.js\"></script>\n",
       "<script src=\"https://maxcdn.bootstrapcdn.com/bootstrap/3.3.7/js/bootstrap.min.js\"></script>\n",
       "</head>\n",
       "<body>\n",
       "<!-- ******HEADER****** -->\n",
       "<header class=\"header\">\n",
       "<a href=\"/home\">\n",
       "<div align=\"center\" class=\"container-fluid\">\n",
       "<img class=\"profile-image\" src=\"\"/>\n",
       "<div align=\"left\" class=\"inline profile-content\">\n",
       "<h1 class=\"name\">Alexandre BELLAICHE</h1>\n",
       "<h2 class=\"desc\">A.I Engineer, Data Scientist, Project Manager</h2>\n",
       "</div>\n",
       "</div>\n",
       "</a>\n",
       "</header>\n",
       "<!-- ******TABS****** -->\n",
       "<ul class=\"nav nav-tabs nav-justified\">\n",
       "<li class=\"\">\n",
       "<a href=\"/home\">\n",
       "<h5>Home</h5>\n",
       "</a>\n",
       "</li>\n",
       "<li class=\"\">\n",
       "<a href=\"/CV\">\n",
       "<h5>CV</h5>\n",
       "</a>\n",
       "</li>\n",
       "<!--\n",
       "      <a class=\"dropdown-toggle\" data-toggle=\"dropdown\"><h5>AI projects<span class=\"caret\"></span></h5></a>\n",
       "      <ul class=\"dropdown-menu\">\n",
       "      <li><a href=\"/recommender\"><h5>Movie Recommender</h5></a></li>\n",
       "      <li><a href=\"/sentiment\"> <h5>Sentiment Analysis</h5></a></li>\n",
       "      <li><a href=\"/stylize\"> <h5>Style Transfer</h5></a></li>\n",
       "      <li><a href=\"/object_detection\"><h5>Object Detection</h5></a></li>\n",
       "    </ul>\n",
       "-->\n",
       "<li class=\"\">\n",
       "<a href=\"/recommender\">\n",
       "<h5>Movie Recommender</h5>\n",
       "</a>\n",
       "</li>\n",
       "<li class=\"\">\n",
       "<a href=\"/sentiment\">\n",
       "<h5>Sentiment Analysis</h5>\n",
       "</a>\n",
       "</li>\n",
       "<li class=\"\">\n",
       "<a href=\"/stylize\">\n",
       "<h5>Style Transfer</h5>\n",
       "</a>\n",
       "</li>\n",
       "<li class=\"\">\n",
       "<a href=\"/object_detection\">\n",
       "<h5>Object Detection</h5>\n",
       "</a>\n",
       "</li>\n",
       "<li class=\"\">\n",
       "<a href=\"/blog\">\n",
       "<h5>Diving in Asia</h5>\n",
       "</a>\n",
       "</li>\n",
       "</ul>\n",
       "<!-- Javascript\n",
       "  <script type=\"text/javascript\" src=''></script>\n",
       "-->\n",
       "<script src=\"\" type=\"text/javascript\"></script>\n",
       "<script src=\"\" type=\"text/javascript\"></script>\n",
       "<script src=\"\" type=\"text/javascript\"></script>\n",
       "<script src=\"\" type=\"text/javascript\"></script>\n",
       "</body></html>"
      ]
     },
     "execution_count": 103,
     "metadata": {},
     "output_type": "execute_result"
    }
   ],
   "source": [
    "import re\n",
    "def remove_django(soup):\n",
    "    text = str(soup)\n",
    "    text = re.sub('{%.*%}','',text)\n",
    "    return bs(text,'html.parser')\n",
    "\n",
    "remove_django(soup)"
   ]
  },
  {
   "cell_type": "code",
   "execution_count": 104,
   "metadata": {},
   "outputs": [
    {
     "data": {
      "text/plain": [
       "['header',\n",
       " 'container-fluid',\n",
       " 'profile-image',\n",
       " 'inline',\n",
       " 'profile-content',\n",
       " 'name',\n",
       " 'desc',\n",
       " 'nav',\n",
       " 'nav-tabs',\n",
       " 'nav-justified']"
      ]
     },
     "execution_count": 104,
     "metadata": {},
     "output_type": "execute_result"
    }
   ],
   "source": [
    "def find_classes(soup):\n",
    "    return [value \n",
    "           for element in soup.find_all(class_=True) \n",
    "           for value in element[\"class\"]\n",
    "           if value != ''\n",
    "          ]\n",
    "\n",
    "find_classes(remove_django(soup))"
   ]
  },
  {
   "cell_type": "code",
   "execution_count": 157,
   "metadata": {},
   "outputs": [
    {
     "name": "stdout",
     "output_type": "stream",
     "text": [
      "{'nav-tabs', 'level-label', 'glyphicon-chevron-right', 'sections-wrapper', 'col-xs-4', 'fa-stack-overflow', 'carousel', 'btn-xs', 'col-sm-8', 'aside', 'green', 'lang', 'fa-star-half-o', 'fa-star', 'progress', 'section-inner', 'alert-dismissable', 'btn', 'row', 'follow', 'fa-heart', 'small-margin', 'fa-quote-left', 'fa-graduation-cap', 'profile-content', 'progress-bar-danger', 'passions', 'level-title', 'fa-globe', 'heading', 'fa-exclamation-triangle', 'progress-bar-success', 'sr-only', 'fa-arrow-right', 'pull-left', 'bar', 'fa-star-o', 'img-responsive', 'fa-map-marker', 'col-xs-12', 'company', 'experience', 'header', 'mission', 'progress-bar-warning', 'fa-quote-right', 'progress-bar', 'container-fluid', 'source', 'vignette', 'section', 'nav', 'alert', 'col-sm-12', 'close', 'btn-default', 'col-md-4', 'fa-terminal', 'fa-github-alt', 'btn-download', 'fa-linkedin', 'desc', 'col-sm-4', 'left', 'right', 'fa-arrow-circle-right', 'carousel-indicators', 'year', 'primary', 'slide', 'content', 'icon', 'skills', 'profile-image', 'fa-plus-circle', 'inline', 'list-unstyled', 'course-title', 'skillset', 'contact', 'col-md-6', 'fa-phone', 'nav-justified', 'carousel-control', 'multi-column', 'title', 'col-md-8', 'fa', 'carousel-caption', 'col-xs-8', 'place', 'quote', 'fa-envelope', 'badge', 'name', 'carousel-inner', 'glyphicon-chevron-left', 'item', 'badge-pill', 'glyphicon', 'small-padding', 'active', 'languages', 'about', 'alert-warning', 'fa-code', 'testimonials', 'job-title', 'secondary', 'education'}\n"
     ]
    }
   ],
   "source": [
    "HTML_CLASSES = []\n",
    "for html in htmlfiles:\n",
    "    with open(html) as doc:\n",
    "        soup = bs(doc,'html.parser')\n",
    "        HTML_CLASSES+=find_classes(remove_django(soup))\n",
    "        \n",
    "HTML_CLASSES = set(HTML_CLASSES)\n",
    "print(HTML_CLASSES)"
   ]
  },
  {
   "cell_type": "markdown",
   "metadata": {},
   "source": [
    "# Parse CSS/LESS"
   ]
  },
  {
   "cell_type": "code",
   "execution_count": 118,
   "metadata": {
    "collapsed": true
   },
   "outputs": [],
   "source": [
    "with open('C:\\\\Users\\\\abellaiche\\\\Dropbox\\\\Web design\\\\alexandrebellaiche.com\\\\personal\\\\static\\\\common\\\\css\\\\styles.css') as file:\n",
    "    css = file.read()"
   ]
  },
  {
   "cell_type": "code",
   "execution_count": 126,
   "metadata": {},
   "outputs": [
    {
     "data": {
      "text/plain": [
       "'/* ======= Custom colors ======= */\\n/*\\n@light-green: hsl(142, 50%, 80%);\\n@middle-green: hsl(142, 50%, 60%);\\n@dark-green: hsl(142, 50%, 40%);\\n@grey-green: hsl(142, 10%, 60%);\\n\\n@light-blue: hsl(202, 50%, 80%);\\n@middle-blue: hsl(202, 50%, 60%);\\n@dark-blue: hsl(202, 50%, 40%);\\n@grey-blue: hsl(202, 20%, 90%);\\n\\n@purple: hsl(250, 50%, 50%);\\n@brown: hsl(21, 50%, 30%);\\n@magenta: hsl(340, 50%, 50%);\\n*/\\n/* ======= Color scheme ======= */\\n/* ======= Base ======= */\\n.icon {\\n  filter: hue-rotate(60deg) bright'"
      ]
     },
     "execution_count": 126,
     "metadata": {},
     "output_type": "execute_result"
    }
   ],
   "source": [
    "css[:500]"
   ]
  },
  {
   "cell_type": "code",
   "execution_count": 156,
   "metadata": {},
   "outputs": [
    {
     "name": "stdout",
     "output_type": "stream",
     "text": [
      "{'info', 'heading', 'level-label', 'nav-tabs', 'btn,', 'sections-wrapper', 'more-link', 'multi-column', 'title', 'fa,', 'fa', 'bar', 'btn-download', 'ribbon', 'latest', 'desc', 'iframe-wrapper', 'intro', 'university', 'featured-image', 'experience', 'lang', 'place', 'label-theme', 'featured', 'quote', 'summary', 'header', 'text-highlight', 'year', 'name', 'content', 'icon', 'projects', 'list', 'fa.fa-envelope-o', 'btn-cta-primary', 'section-inner', 'profile-image', 'skills', 'item', 'badge-pill', 'btn', 'inline', 'text', 'btn-cta-secondary', 'divider', 'source', 'languages', 'blog', 'small-margin', 'label', 'testimonials', 'course-title', 'profile-content', 'section', 'skillset', 'social', 'level', 'nav', 'vignette', 'contact', 'education', 'level-title'}\n"
     ]
    }
   ],
   "source": [
    "CSS_CLASSES = set()\n",
    "\n",
    "for line in css.split('\\n'):\n",
    "    if line.startswith('.'):\n",
    "        for item in line.split():\n",
    "            if item.startswith('.') and ':' not in item:\n",
    "                CSS_CLASSES.add(item[1:])\n",
    "                \n",
    "print(CSS_CLASSES)"
   ]
  },
  {
   "cell_type": "markdown",
   "metadata": {},
   "source": [
    "# Unused classes"
   ]
  },
  {
   "cell_type": "code",
   "execution_count": 155,
   "metadata": {},
   "outputs": [
    {
     "name": "stdout",
     "output_type": "stream",
     "text": [
      "{'info', 'btn,', 'more-link', 'fa,', 'ribbon', 'latest', 'iframe-wrapper', 'intro', 'university', 'featured-image', 'label-theme', 'featured', 'summary', 'text-highlight', 'projects', 'list', 'fa.fa-envelope-o', 'btn-cta-primary', 'text', 'blog', 'btn-cta-secondary', 'divider', 'label', 'social', 'level'}\n"
     ]
    }
   ],
   "source": [
    "print(set(CSS_CLASSES)-set(HTML_CLASSES))"
   ]
  },
  {
   "cell_type": "code",
   "execution_count": null,
   "metadata": {},
   "outputs": [],
   "source": []
  },
  {
   "cell_type": "code",
   "execution_count": null,
   "metadata": {
    "collapsed": true
   },
   "outputs": [],
   "source": []
  }
 ],
 "metadata": {
  "kernelspec": {
   "display_name": "Py36 (default)",
   "language": "python",
   "name": "python3"
  },
  "language_info": {
   "codemirror_mode": {
    "name": "ipython",
    "version": 3
   },
   "file_extension": ".py",
   "mimetype": "text/x-python",
   "name": "python",
   "nbconvert_exporter": "python",
   "pygments_lexer": "ipython3",
   "version": "3.6.4"
  }
 },
 "nbformat": 4,
 "nbformat_minor": 2
}
